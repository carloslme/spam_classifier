{
  "nbformat": 4,
  "nbformat_minor": 0,
  "metadata": {
    "colab": {
      "name": "sms_spam_classifier.ipynb",
      "provenance": [],
      "authorship_tag": "ABX9TyOyB6sFXTH4mzWHtVr7r8bE",
      "include_colab_link": true
    },
    "kernelspec": {
      "name": "python3",
      "display_name": "Python 3"
    },
    "language_info": {
      "name": "python"
    }
  },
  "cells": [
    {
      "cell_type": "markdown",
      "metadata": {
        "id": "view-in-github",
        "colab_type": "text"
      },
      "source": [
        "<a href=\"https://colab.research.google.com/github/carloslme/spam_classifier/blob/main/sms_spam_classifier.ipynb\" target=\"_parent\"><img src=\"https://colab.research.google.com/assets/colab-badge.svg\" alt=\"Open In Colab\"/></a>"
      ]
    },
    {
      "cell_type": "markdown",
      "metadata": {
        "id": "-M5IY0IlZb5V"
      },
      "source": [
        "# Frame the problem and look at the big picture\n",
        "1. **Define the objective in business terms.** \n",
        "Reduce the amount of SMS spam that reach the users.\n",
        "2. **How the solution will be used?** \n",
        "The solution is going to be consumed by API REST\n",
        "3. **What are the current solutions?**\n",
        "There are a large number of solutions implemented (visit Kaggle)\n",
        "4. **What is the right approach to solve this problem?**\n",
        "Supervised learning (we have labeled data)\n",
        "5. **How the performance is going to be measured?**\n",
        "Accuracy, precision and recall\n",
        "6. **Assumptions**\n",
        "- Data messages is already cleaned (no HTML code)\n",
        "- Data labeled\n",
        "7. **Verify assumptions**\n"
      ]
    },
    {
      "cell_type": "markdown",
      "metadata": {
        "id": "HxgsfDdUZf9O"
      },
      "source": [
        "# Get the data"
      ]
    },
    {
      "cell_type": "markdown",
      "metadata": {
        "id": "sYcCzncPZiYe"
      },
      "source": [
        "# Explore the data to gain insights"
      ]
    },
    {
      "cell_type": "markdown",
      "metadata": {
        "id": "zauZtKebZm6-"
      },
      "source": [
        "# Prepare the data"
      ]
    },
    {
      "cell_type": "markdown",
      "metadata": {
        "id": "ERllydARZupm"
      },
      "source": [
        "# Train a model"
      ]
    },
    {
      "cell_type": "markdown",
      "metadata": {
        "id": "isZR9mWkZ2L_"
      },
      "source": [
        "# Fine-tune the model\n"
      ]
    },
    {
      "cell_type": "markdown",
      "metadata": {
        "id": "NeeEssxuZ7FG"
      },
      "source": [
        "# Present the solution"
      ]
    },
    {
      "cell_type": "code",
      "metadata": {
        "id": "boYGPo08ZIiQ"
      },
      "source": [
        ""
      ],
      "execution_count": null,
      "outputs": []
    }
  ]
}