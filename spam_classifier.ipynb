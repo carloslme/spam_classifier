{
  "nbformat": 4,
  "nbformat_minor": 0,
  "metadata": {
    "colab": {
      "name": "spam_classifier.ipynb",
      "provenance": [],
      "authorship_tag": "ABX9TyMEJvf1yKIoJSqe9Uvoa2wz",
      "include_colab_link": true
    },
    "kernelspec": {
      "name": "python3",
      "display_name": "Python 3"
    },
    "language_info": {
      "name": "python"
    }
  },
  "cells": [
    {
      "cell_type": "markdown",
      "metadata": {
        "id": "view-in-github",
        "colab_type": "text"
      },
      "source": [
        "<a href=\"https://colab.research.google.com/github/carloslme/spam_classifier/blob/main/spam_classifier.ipynb\" target=\"_parent\"><img src=\"https://colab.research.google.com/assets/colab-badge.svg\" alt=\"Open In Colab\"/></a>"
      ]
    },
    {
      "cell_type": "markdown",
      "metadata": {
        "id": "-M5IY0IlZb5V"
      },
      "source": [
        "# Frame the problem and look at the big picture\n"
      ]
    },
    {
      "cell_type": "markdown",
      "metadata": {
        "id": "HxgsfDdUZf9O"
      },
      "source": [
        "# Get the data"
      ]
    },
    {
      "cell_type": "markdown",
      "metadata": {
        "id": "sYcCzncPZiYe"
      },
      "source": [
        "# Explore the data to gain insights"
      ]
    },
    {
      "cell_type": "markdown",
      "metadata": {
        "id": "zauZtKebZm6-"
      },
      "source": [
        "# Prepare the data"
      ]
    },
    {
      "cell_type": "markdown",
      "metadata": {
        "id": "ERllydARZupm"
      },
      "source": [
        "# Train a model"
      ]
    },
    {
      "cell_type": "markdown",
      "metadata": {
        "id": "isZR9mWkZ2L_"
      },
      "source": [
        "# Fine-tune the model\n"
      ]
    },
    {
      "cell_type": "markdown",
      "metadata": {
        "id": "NeeEssxuZ7FG"
      },
      "source": [
        "# Present the solution"
      ]
    },
    {
      "cell_type": "code",
      "metadata": {
        "id": "boYGPo08ZIiQ"
      },
      "source": [
        ""
      ],
      "execution_count": null,
      "outputs": []
    }
  ]
}